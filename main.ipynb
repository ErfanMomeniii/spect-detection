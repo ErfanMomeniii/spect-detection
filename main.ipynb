{
 "nbformat": 4,
 "nbformat_minor": 0,
 "metadata": {
  "colab": {
   "provenance": []
  },
  "kernelspec": {
   "name": "python3",
   "display_name": "Python 3"
  },
  "language_info": {
   "name": "python"
  }
 },
 "cells": [
  {
   "cell_type": "markdown",
   "source": [
    "## Importing libraries"
   ],
   "metadata": {
    "id": "EQxjJLvMm2sS"
   }
  },
  {
   "cell_type": "code",
   "source": [
    "import pandas as pd\n",
    "import numpy as np"
   ],
   "metadata": {
    "id": "T-yKHpI3m61G"
   },
   "execution_count": 14,
   "outputs": []
  },
  {
   "cell_type": "markdown",
   "source": [
    "## Loading the data set\n",
    "\n",
    "The data set is assigned to a Pandas data frame."
   ],
   "metadata": {
    "id": "83t9h_CynSVb"
   }
  },
  {
   "cell_type": "code",
   "source": [
    "df = pd.read_csv(\"data/spect.csv\", sep=',', index_col=False, decimal=',')"
   ],
   "metadata": {
    "id": "su_jhCh4nSVc"
   },
   "execution_count": 25,
   "outputs": []
  },
  {
   "cell_type": "markdown",
   "source": [
    "# Types of attributes and null values\n",
    "\n",
    "Description of the dataset"
   ],
   "metadata": {
    "id": "gJgwYFg7n19Q"
   }
  },
  {
   "cell_type": "code",
   "source": [
    "df.info()"
   ],
   "metadata": {
    "colab": {
     "base_uri": "https://localhost:8080/"
    },
    "id": "hZCmYHoUoHEO",
    "outputId": "064f19dc-47c4-447e-ddf0-0023d95bdc1f"
   },
   "execution_count": 27,
   "outputs": [
    {
     "output_type": "stream",
     "name": "stdout",
     "text": [
      "<class 'pandas.core.frame.DataFrame'>\n",
      "RangeIndex: 267 entries, 0 to 266\n",
      "Data columns (total 23 columns):\n",
      " #   Column             Non-Null Count  Dtype\n",
      "---  ------             --------------  -----\n",
      " 0   OVERALL_DIAGNOSIS  267 non-null    int64\n",
      " 1   F1                 267 non-null    int64\n",
      " 2   F2                 267 non-null    int64\n",
      " 3   F3                 267 non-null    int64\n",
      " 4   F4                 267 non-null    int64\n",
      " 5   F5                 267 non-null    int64\n",
      " 6   F6                 267 non-null    int64\n",
      " 7   F7                 267 non-null    int64\n",
      " 8   F8                 267 non-null    int64\n",
      " 9   F9                 267 non-null    int64\n",
      " 10  F10                267 non-null    int64\n",
      " 11  F11                267 non-null    int64\n",
      " 12  F12                267 non-null    int64\n",
      " 13  F13                267 non-null    int64\n",
      " 14  F14                267 non-null    int64\n",
      " 15  F15                267 non-null    int64\n",
      " 16  F16                267 non-null    int64\n",
      " 17  F17                267 non-null    int64\n",
      " 18  F18                267 non-null    int64\n",
      " 19  F19                267 non-null    int64\n",
      " 20  F20                267 non-null    int64\n",
      " 21  F21                267 non-null    int64\n",
      " 22  F22                267 non-null    int64\n",
      "dtypes: int64(23)\n",
      "memory usage: 48.1 KB\n"
     ]
    }
   ]
  },
  {
   "cell_type": "markdown",
   "source": [
    "Count of null values, for each attribute"
   ],
   "metadata": {
    "id": "l9u7hSCTp3Gs"
   }
  },
  {
   "cell_type": "code",
   "source": [
    "df.isnull().sum()"
   ],
   "metadata": {
    "colab": {
     "base_uri": "https://localhost:8080/"
    },
    "id": "FkMunhB-p4cf",
    "outputId": "27952018-1082-4891-8668-8b472985b876"
   },
   "execution_count": 28,
   "outputs": [
    {
     "output_type": "execute_result",
     "data": {
      "text/plain": [
       "OVERALL_DIAGNOSIS    0\n",
       "F1                   0\n",
       "F2                   0\n",
       "F3                   0\n",
       "F4                   0\n",
       "F5                   0\n",
       "F6                   0\n",
       "F7                   0\n",
       "F8                   0\n",
       "F9                   0\n",
       "F10                  0\n",
       "F11                  0\n",
       "F12                  0\n",
       "F13                  0\n",
       "F14                  0\n",
       "F15                  0\n",
       "F16                  0\n",
       "F17                  0\n",
       "F18                  0\n",
       "F19                  0\n",
       "F20                  0\n",
       "F21                  0\n",
       "F22                  0\n",
       "dtype: int64"
      ]
     },
     "metadata": {},
     "execution_count": 28
    }
   ]
  },
  {
   "cell_type": "markdown",
   "source": [
    "As you can see, we don't have any missing\n",
    "values in the data sets."
   ],
   "metadata": {
    "id": "BNDXy79Brt1b"
   }
  },
  {
   "cell_type": "markdown",
   "source": [
    "# Remove noise and outliers\n"
   ],
   "metadata": {
    "id": "KU2h12I12zrV"
   }
  },
  {
   "cell_type": "code",
   "source": [
    "from scipy.stats import zscore\n",
    "z_scores = zscore(df)\n",
    "\n",
    "abs_z_scores = np.abs(z_scores)\n",
    "filtered_entries = (abs_z_scores < 3).all(axis=1)\n",
    "\n",
    "if len(filtered_entries)!=len(df):\n",
    "    df[filtered_entries].to_csv(r'data/spect.csv', index=True, header=True)\n",
    "\n",
    "df.describe()"
   ],
   "metadata": {
    "colab": {
     "base_uri": "https://localhost:8080/",
     "height": 393
    },
    "id": "QjTJNbol28sM",
    "outputId": "f4f237f8-0667-4b54-a268-f60cf0e0f5ad",
    "pycharm": {
     "name": "#%%\n"
    }
   },
   "execution_count": 9,
   "outputs": [
    {
     "data": {
      "text/plain": "       OVERALL_DIAGNOSIS          F1          F2          F3          F4   \ncount         267.000000  267.000000  267.000000  267.000000  267.000000  \\\nmean            0.794007    0.445693    0.247191    0.393258    0.284644   \nstd             0.405185    0.497975    0.432189    0.489391    0.452092   \nmin             0.000000    0.000000    0.000000    0.000000    0.000000   \n25%             1.000000    0.000000    0.000000    0.000000    0.000000   \n50%             1.000000    0.000000    0.000000    0.000000    0.000000   \n75%             1.000000    1.000000    0.000000    1.000000    1.000000   \nmax             1.000000    1.000000    1.000000    1.000000    1.000000   \n\n               F5          F6          F7          F8          F9  ...   \ncount  267.000000  267.000000  267.000000  267.000000  267.000000  ...  \\\nmean     0.404494    0.235955    0.284644    0.426966    0.310861  ...   \nstd      0.491716    0.425392    0.452092    0.495566    0.463715  ...   \nmin      0.000000    0.000000    0.000000    0.000000    0.000000  ...   \n25%      0.000000    0.000000    0.000000    0.000000    0.000000  ...   \n50%      0.000000    0.000000    0.000000    0.000000    0.000000  ...   \n75%      1.000000    0.000000    1.000000    1.000000    1.000000  ...   \nmax      1.000000    1.000000    1.000000    1.000000    1.000000  ...   \n\n              F13         F14         F15         F16         F17         F18   \ncount  267.000000  267.000000  267.000000  267.000000  267.000000  267.000000  \\\nmean     0.494382    0.303371    0.176030    0.310861    0.142322    0.131086   \nstd      0.500907    0.460577    0.381561    0.463715    0.350036    0.338128   \nmin      0.000000    0.000000    0.000000    0.000000    0.000000    0.000000   \n25%      0.000000    0.000000    0.000000    0.000000    0.000000    0.000000   \n50%      0.000000    0.000000    0.000000    0.000000    0.000000    0.000000   \n75%      1.000000    1.000000    0.000000    1.000000    0.000000    0.000000   \nmax      1.000000    1.000000    1.000000    1.000000    1.000000    1.000000   \n\n              F19         F20         F21         F22  \ncount  267.000000  267.000000  267.000000  267.000000  \nmean     0.247191    0.322097    0.363296    0.411985  \nstd      0.432189    0.468158    0.481852    0.493117  \nmin      0.000000    0.000000    0.000000    0.000000  \n25%      0.000000    0.000000    0.000000    0.000000  \n50%      0.000000    0.000000    0.000000    0.000000  \n75%      0.000000    1.000000    1.000000    1.000000  \nmax      1.000000    1.000000    1.000000    1.000000  \n\n[8 rows x 23 columns]",
      "text/html": "<div>\n<style scoped>\n    .dataframe tbody tr th:only-of-type {\n        vertical-align: middle;\n    }\n\n    .dataframe tbody tr th {\n        vertical-align: top;\n    }\n\n    .dataframe thead th {\n        text-align: right;\n    }\n</style>\n<table border=\"1\" class=\"dataframe\">\n  <thead>\n    <tr style=\"text-align: right;\">\n      <th></th>\n      <th>OVERALL_DIAGNOSIS</th>\n      <th>F1</th>\n      <th>F2</th>\n      <th>F3</th>\n      <th>F4</th>\n      <th>F5</th>\n      <th>F6</th>\n      <th>F7</th>\n      <th>F8</th>\n      <th>F9</th>\n      <th>...</th>\n      <th>F13</th>\n      <th>F14</th>\n      <th>F15</th>\n      <th>F16</th>\n      <th>F17</th>\n      <th>F18</th>\n      <th>F19</th>\n      <th>F20</th>\n      <th>F21</th>\n      <th>F22</th>\n    </tr>\n  </thead>\n  <tbody>\n    <tr>\n      <th>count</th>\n      <td>267.000000</td>\n      <td>267.000000</td>\n      <td>267.000000</td>\n      <td>267.000000</td>\n      <td>267.000000</td>\n      <td>267.000000</td>\n      <td>267.000000</td>\n      <td>267.000000</td>\n      <td>267.000000</td>\n      <td>267.000000</td>\n      <td>...</td>\n      <td>267.000000</td>\n      <td>267.000000</td>\n      <td>267.000000</td>\n      <td>267.000000</td>\n      <td>267.000000</td>\n      <td>267.000000</td>\n      <td>267.000000</td>\n      <td>267.000000</td>\n      <td>267.000000</td>\n      <td>267.000000</td>\n    </tr>\n    <tr>\n      <th>mean</th>\n      <td>0.794007</td>\n      <td>0.445693</td>\n      <td>0.247191</td>\n      <td>0.393258</td>\n      <td>0.284644</td>\n      <td>0.404494</td>\n      <td>0.235955</td>\n      <td>0.284644</td>\n      <td>0.426966</td>\n      <td>0.310861</td>\n      <td>...</td>\n      <td>0.494382</td>\n      <td>0.303371</td>\n      <td>0.176030</td>\n      <td>0.310861</td>\n      <td>0.142322</td>\n      <td>0.131086</td>\n      <td>0.247191</td>\n      <td>0.322097</td>\n      <td>0.363296</td>\n      <td>0.411985</td>\n    </tr>\n    <tr>\n      <th>std</th>\n      <td>0.405185</td>\n      <td>0.497975</td>\n      <td>0.432189</td>\n      <td>0.489391</td>\n      <td>0.452092</td>\n      <td>0.491716</td>\n      <td>0.425392</td>\n      <td>0.452092</td>\n      <td>0.495566</td>\n      <td>0.463715</td>\n      <td>...</td>\n      <td>0.500907</td>\n      <td>0.460577</td>\n      <td>0.381561</td>\n      <td>0.463715</td>\n      <td>0.350036</td>\n      <td>0.338128</td>\n      <td>0.432189</td>\n      <td>0.468158</td>\n      <td>0.481852</td>\n      <td>0.493117</td>\n    </tr>\n    <tr>\n      <th>min</th>\n      <td>0.000000</td>\n      <td>0.000000</td>\n      <td>0.000000</td>\n      <td>0.000000</td>\n      <td>0.000000</td>\n      <td>0.000000</td>\n      <td>0.000000</td>\n      <td>0.000000</td>\n      <td>0.000000</td>\n      <td>0.000000</td>\n      <td>...</td>\n      <td>0.000000</td>\n      <td>0.000000</td>\n      <td>0.000000</td>\n      <td>0.000000</td>\n      <td>0.000000</td>\n      <td>0.000000</td>\n      <td>0.000000</td>\n      <td>0.000000</td>\n      <td>0.000000</td>\n      <td>0.000000</td>\n    </tr>\n    <tr>\n      <th>25%</th>\n      <td>1.000000</td>\n      <td>0.000000</td>\n      <td>0.000000</td>\n      <td>0.000000</td>\n      <td>0.000000</td>\n      <td>0.000000</td>\n      <td>0.000000</td>\n      <td>0.000000</td>\n      <td>0.000000</td>\n      <td>0.000000</td>\n      <td>...</td>\n      <td>0.000000</td>\n      <td>0.000000</td>\n      <td>0.000000</td>\n      <td>0.000000</td>\n      <td>0.000000</td>\n      <td>0.000000</td>\n      <td>0.000000</td>\n      <td>0.000000</td>\n      <td>0.000000</td>\n      <td>0.000000</td>\n    </tr>\n    <tr>\n      <th>50%</th>\n      <td>1.000000</td>\n      <td>0.000000</td>\n      <td>0.000000</td>\n      <td>0.000000</td>\n      <td>0.000000</td>\n      <td>0.000000</td>\n      <td>0.000000</td>\n      <td>0.000000</td>\n      <td>0.000000</td>\n      <td>0.000000</td>\n      <td>...</td>\n      <td>0.000000</td>\n      <td>0.000000</td>\n      <td>0.000000</td>\n      <td>0.000000</td>\n      <td>0.000000</td>\n      <td>0.000000</td>\n      <td>0.000000</td>\n      <td>0.000000</td>\n      <td>0.000000</td>\n      <td>0.000000</td>\n    </tr>\n    <tr>\n      <th>75%</th>\n      <td>1.000000</td>\n      <td>1.000000</td>\n      <td>0.000000</td>\n      <td>1.000000</td>\n      <td>1.000000</td>\n      <td>1.000000</td>\n      <td>0.000000</td>\n      <td>1.000000</td>\n      <td>1.000000</td>\n      <td>1.000000</td>\n      <td>...</td>\n      <td>1.000000</td>\n      <td>1.000000</td>\n      <td>0.000000</td>\n      <td>1.000000</td>\n      <td>0.000000</td>\n      <td>0.000000</td>\n      <td>0.000000</td>\n      <td>1.000000</td>\n      <td>1.000000</td>\n      <td>1.000000</td>\n    </tr>\n    <tr>\n      <th>max</th>\n      <td>1.000000</td>\n      <td>1.000000</td>\n      <td>1.000000</td>\n      <td>1.000000</td>\n      <td>1.000000</td>\n      <td>1.000000</td>\n      <td>1.000000</td>\n      <td>1.000000</td>\n      <td>1.000000</td>\n      <td>1.000000</td>\n      <td>...</td>\n      <td>1.000000</td>\n      <td>1.000000</td>\n      <td>1.000000</td>\n      <td>1.000000</td>\n      <td>1.000000</td>\n      <td>1.000000</td>\n      <td>1.000000</td>\n      <td>1.000000</td>\n      <td>1.000000</td>\n      <td>1.000000</td>\n    </tr>\n  </tbody>\n</table>\n<p>8 rows × 23 columns</p>\n</div>"
     },
     "execution_count": 9,
     "metadata": {},
     "output_type": "execute_result"
    }
   ]
  }
 ]
}