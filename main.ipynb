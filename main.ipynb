{
 "nbformat": 4,
 "nbformat_minor": 0,
 "metadata": {
  "colab": {
   "provenance": []
  },
  "kernelspec": {
   "name": "python3",
   "display_name": "Python 3"
  },
  "language_info": {
   "name": "python"
  }
 },
 "cells": [
  {
   "cell_type": "markdown",
   "source": [
    "## Importing libraries"
   ],
   "metadata": {
    "id": "EQxjJLvMm2sS"
   }
  },
  {
   "cell_type": "code",
   "source": [
    "import pandas as pd\n",
    "import numpy as np"
   ],
   "metadata": {
    "id": "T-yKHpI3m61G"
   },
   "execution_count": 2,
   "outputs": []
  },
  {
   "cell_type": "markdown",
   "source": [
    "## Loading the data set\n",
    "\n",
    "The data set is assigned to a Pandas data frame."
   ],
   "metadata": {
    "id": "83t9h_CynSVb"
   }
  },
  {
   "cell_type": "code",
   "source": [
    "df = pd.read_csv(\"data/spect.csv\", sep=',', index_col=False, decimal=',')"
   ],
   "metadata": {
    "id": "su_jhCh4nSVc"
   },
   "execution_count": 5,
   "outputs": []
  },
  {
   "cell_type": "markdown",
   "source": [
    "# Types of attributes and null values\n",
    "\n",
    "Description of the dataset"
   ],
   "metadata": {
    "id": "gJgwYFg7n19Q"
   }
  },
  {
   "cell_type": "code",
   "source": [
    "df.info()"
   ],
   "metadata": {
    "colab": {
     "base_uri": "https://localhost:8080/"
    },
    "id": "hZCmYHoUoHEO",
    "outputId": "064f19dc-47c4-447e-ddf0-0023d95bdc1f"
   },
   "execution_count": 6,
   "outputs": [
    {
     "name": "stdout",
     "output_type": "stream",
     "text": [
      "<class 'pandas.core.frame.DataFrame'>\n",
      "RangeIndex: 267 entries, 0 to 266\n",
      "Data columns (total 23 columns):\n",
      " #   Column             Non-Null Count  Dtype\n",
      "---  ------             --------------  -----\n",
      " 0   OVERALL_DIAGNOSIS  267 non-null    int64\n",
      " 1   F1                 267 non-null    int64\n",
      " 2   F2                 267 non-null    int64\n",
      " 3   F3                 267 non-null    int64\n",
      " 4   F4                 267 non-null    int64\n",
      " 5   F5                 267 non-null    int64\n",
      " 6   F6                 267 non-null    int64\n",
      " 7   F7                 267 non-null    int64\n",
      " 8   F8                 267 non-null    int64\n",
      " 9   F9                 267 non-null    int64\n",
      " 10  F10                267 non-null    int64\n",
      " 11  F11                267 non-null    int64\n",
      " 12  F12                267 non-null    int64\n",
      " 13  F13                267 non-null    int64\n",
      " 14  F14                267 non-null    int64\n",
      " 15  F15                267 non-null    int64\n",
      " 16  F16                267 non-null    int64\n",
      " 17  F17                267 non-null    int64\n",
      " 18  F18                267 non-null    int64\n",
      " 19  F19                267 non-null    int64\n",
      " 20  F20                267 non-null    int64\n",
      " 21  F21                267 non-null    int64\n",
      " 22  F22                267 non-null    int64\n",
      "dtypes: int64(23)\n",
      "memory usage: 48.1 KB\n"
     ]
    }
   ]
  },
  {
   "cell_type": "markdown",
   "source": [
    "Count of null values, for each attribute"
   ],
   "metadata": {
    "id": "l9u7hSCTp3Gs"
   }
  },
  {
   "cell_type": "code",
   "source": [
    "df.isnull().sum()"
   ],
   "metadata": {
    "colab": {
     "base_uri": "https://localhost:8080/"
    },
    "id": "FkMunhB-p4cf",
    "outputId": "27952018-1082-4891-8668-8b472985b876"
   },
   "execution_count": 7,
   "outputs": [
    {
     "data": {
      "text/plain": "OVERALL_DIAGNOSIS    0\nF1                   0\nF2                   0\nF3                   0\nF4                   0\nF5                   0\nF6                   0\nF7                   0\nF8                   0\nF9                   0\nF10                  0\nF11                  0\nF12                  0\nF13                  0\nF14                  0\nF15                  0\nF16                  0\nF17                  0\nF18                  0\nF19                  0\nF20                  0\nF21                  0\nF22                  0\ndtype: int64"
     },
     "execution_count": 7,
     "metadata": {},
     "output_type": "execute_result"
    }
   ]
  },
  {
   "cell_type": "markdown",
   "source": [
    "As you can see, we don't have any missing\n",
    "values in the data sets."
   ],
   "metadata": {
    "id": "BNDXy79Brt1b"
   }
  }
 ]
}